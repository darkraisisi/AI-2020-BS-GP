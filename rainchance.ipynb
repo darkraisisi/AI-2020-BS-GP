{
 "cells": [
  {
   "cell_type": "code",
   "execution_count": null,
   "metadata": {},
   "outputs": [],
   "source": [
    "import numpy as np\n",
    "import pandas as pd\n",
    "import matplotlib.pyplot as plt\n",
    "import math\n",
    "import urllib.parse\n",
    "import urllib.request\n",
    "import json"
   ]
  },
  {
   "cell_type": "code",
   "execution_count": null,
   "metadata": {},
   "outputs": [],
   "source": [
    "\"\"\"\n",
    "KONINKLIJK NEDERLANDS METEOROLOGISCH INSTITUUT (KNMI)\n",
    "\"\"\"\n",
    "deBilt = pd.read_csv('data/generated/neerslaggeg_DE-BILT_550.csv', parse_dates=['YYYYMMDD'])"
   ]
  },
  {
   "cell_type": "code",
   "execution_count": null,
   "metadata": {},
   "outputs": [],
   "source": [
    "deBilt.dropna(subset=['RD','SX'], thresh=1, inplace=True)\n",
    "deBilt['RD'] = deBilt['RD'].fillna(0)\n",
    "deBilt['SX'] = deBilt['SX'].fillna(0)\n",
    "\n",
    "deBilt['RD'] = deBilt['RD'].astype('int64')\n",
    "deBilt['SX'] = deBilt['SX'].astype('int64')\n",
    "\n",
    "display(deBilt)\n",
    "display(deBilt.describe())"
   ]
  },
  {
   "cell_type": "code",
   "execution_count": null,
   "metadata": {
    "scrolled": true
   },
   "outputs": [],
   "source": [
    "display(deBilt.plot(x='YYYYMMDD',y='RD'))\n",
    "# display(deBilt.rolling('14d', on='YYYYMMDD').mean().plot(x='YYYYMMDD',y='RD'))\n",
    "# display(deBilt.rolling('30d', on='YYYYMMDD').mean().plot(x='YYYYMMDD',y='RD'))"
   ]
  },
  {
   "cell_type": "code",
   "execution_count": null,
   "metadata": {},
   "outputs": [],
   "source": [
    "\"\"\"\n",
    "data = {'row_1': [3, 2, 1, 0], 'row_2': ['a', 'b', 'c', 'd']}\n",
    "\n",
    "pd.DataFrame.from_dict(data, orient='index',\n",
    "                       columns=['A', 'B', 'C', 'D'])\n",
    "       A  B  C  D\n",
    "row_1  3  2  1  0\n",
    "row_2  a  b  c  d\n",
    "\n",
    "count per year per amount\n",
    "       50  100  150  200\n",
    "2018   9   8     5    3\n",
    "2019   7   8     7    5\n",
    "2020   6   9     9    9\n",
    "\"\"\""
   ]
  },
  {
   "cell_type": "code",
   "execution_count": null,
   "metadata": {},
   "outputs": [],
   "source": [
    "rainRanges = [*range(2, 10, 2), *range(10, 50, 10), *range(50, 750, 50)]\n",
    "freq = {}\n",
    "\n",
    "for year in range(deBilt['YYYYMMDD'].dt.year.min(), deBilt['YYYYMMDD'].dt.year.max()+1):\n",
    "    yearRain = deBilt[deBilt['YYYYMMDD'].dt.year == year]\n",
    "    counts = []\n",
    "    for i, mm in enumerate(rainRanges[1:],1):\n",
    "        prev = rainRanges[i-1]\n",
    "        x = yearRain[(yearRain['RD'] >= prev) & (yearRain['RD'] < mm)]['RD'].count()\n",
    "#         print(f'year: {year} max:{mm} count:{x}')\n",
    "        counts.append(x)\n",
    "    freq.update({year:counts})\n",
    "\n",
    "fpy = pd.DataFrame.from_dict(freq, orient='index',columns=rainRanges[1:])"
   ]
  },
  {
   "cell_type": "code",
   "execution_count": null,
   "metadata": {},
   "outputs": [],
   "source": [
    "display(fpy)"
   ]
  },
  {
   "cell_type": "code",
   "execution_count": null,
   "metadata": {},
   "outputs": [],
   "source": [
    "fpy.describe()"
   ]
  },
  {
   "cell_type": "code",
   "execution_count": null,
   "metadata": {},
   "outputs": [],
   "source": [
    "x = fpy.plot(figsize=(16,14))"
   ]
  },
  {
   "cell_type": "code",
   "execution_count": null,
   "metadata": {},
   "outputs": [],
   "source": []
  }
 ],
 "metadata": {
  "kernelspec": {
   "display_name": "Python 3.8.3 64-bit",
   "language": "python",
   "name": "python38364bit5cdb2531dd3545ea9b3fd1a8a995abfc"
  },
  "language_info": {
   "codemirror_mode": {
    "name": "ipython",
    "version": 3
   },
   "file_extension": ".py",
   "mimetype": "text/x-python",
   "name": "python",
   "nbconvert_exporter": "python",
   "pygments_lexer": "ipython3",
   "version": "3.8.3"
  }
 },
 "nbformat": 4,
 "nbformat_minor": 2
}
