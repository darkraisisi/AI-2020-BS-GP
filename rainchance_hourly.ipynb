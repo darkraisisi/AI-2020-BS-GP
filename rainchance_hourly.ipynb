{
 "cells": [
  {
   "cell_type": "code",
   "execution_count": null,
   "metadata": {},
   "outputs": [],
   "source": [
    "import numpy as np\n",
    "import pandas as pd\n",
    "import matplotlib.pyplot as plt\n",
    "import matplotlib.colors as clr\n",
    "import math\n",
    "import urllib.parse\n",
    "import urllib.request\n",
    "import json"
   ]
  },
  {
   "cell_type": "code",
   "execution_count": null,
   "metadata": {},
   "outputs": [],
   "source": [
    "# Use this if you want to download a file manually (trim it for ease)\n",
    "\"\"\"\n",
    "HH: Current hour\n",
    "DR: Duur van de neerslag (in 0.1 uur) per uurvak / Precipitation duration (in 0.1 hour) during the hourly division\n",
    "RH: Uursom van de neerslag (in 0.1 mm) (-1 voor <0.05 mm) / Hourly precipitation amount (in 0.1 mm) (-1 for <0.05 mm)\n",
    "\"\"\"\n",
    "deBilt = pd.read_csv('data\\uurgeg_260_2011-2020.csv', parse_dates=['YYYYMMDD'], comment='#', usecols=['YYYYMMDD','HH','RH','DR'])\n",
    "\n",
    "deBilt.drop(deBilt[(deBilt['RH'] == -1) | (deBilt['RH'] == 0) | (deBilt['RH'] == '     ')].index, inplace=True)\n",
    "deBilt['DR'] = deBilt['DR'].str.strip()\n",
    "deBilt['DR'] = pd.to_numeric(deBilt['DR'], 'coerce').fillna(0).astype(int)\n",
    "deBilt.to_csv ('data\\generated\\uurgeg_260_2011-2020.csv', index = False, header=True)"
   ]
  },
  {
   "cell_type": "code",
   "execution_count": null,
   "metadata": {},
   "outputs": [],
   "source": [
    "# Use this if you want to select a lot more data (trim it for ease)\n",
    "url = \"http://projects.knmi.nl/klimatologie/uurgegevens/getdata_uur.cgi\"\n",
    "postData = {\n",
    "    'start':'1971010101',\n",
    "    'end':'2021010124',\n",
    "    'stns': '240',\n",
    "    'vars':'RH:DR'\n",
    "}\n",
    "data = urllib.parse.urlencode(postData)\n",
    "data = data.encode('ascii')\n",
    "\n",
    "req = urllib.request.Request(url,data)\n",
    "with urllib.request.urlopen(req) as response:\n",
    "    with open('data/generated/neerslag.csv','wb') as file:\n",
    "        file.write(bytes(\"STM,YYYYMMDD,HH,RH,DR\\n\",encoding='utf-8'))\n",
    "        file.write(response.read())\n",
    "        file.close\n",
    "\n",
    "deBilt = pd.read_csv('data/generated/neerslag.csv', parse_dates=['YYYYMMDD'], comment='#', usecols=['YYYYMMDD','HH','RH','DR'])\n",
    "deBilt.drop(deBilt[(deBilt['RH'] == -1) | (deBilt['RH'] == 0) | (deBilt['RH'] == '     ') | (deBilt['DR'] == '     ')].index, inplace=True)\n",
    "deBilt['DR'] = deBilt['DR'].astype(int)\n",
    "deBilt.to_csv (r'data/generated/neerslag.csv', index = False, header=True)"
   ]
  },
  {
   "cell_type": "code",
   "execution_count": null,
   "metadata": {},
   "outputs": [],
   "source": [
    "deBilt = pd.read_csv('data/generated/neerslag.csv', parse_dates=['YYYYMMDD'], comment='#', usecols=['YYYYMMDD','HH','RH','DR'],dtype={'RH':int,'DR':int})"
   ]
  },
  {
   "cell_type": "code",
   "execution_count": null,
   "metadata": {},
   "outputs": [],
   "source": [
    "deBilt.describe()"
   ]
  },
  {
   "cell_type": "code",
   "execution_count": null,
   "metadata": {},
   "outputs": [],
   "source": [
    "display(deBilt.plot(x='YYYYMMDD',y='RH'))"
   ]
  },
  {
   "cell_type": "code",
   "execution_count": null,
   "metadata": {},
   "outputs": [],
   "source": [
    "\"\"\"\n",
    "Count the times a certain amount of rain occured (max time 1 hour)\n",
    "\"\"\"\n",
    "\n",
    "rainRanges = [*range(2, 10, 2), *range(10, 50, 10), *range(50, 350, 50)]\n",
    "freq = {}\n",
    "\n",
    "for year in range(deBilt['YYYYMMDD'].dt.year.min(), deBilt['YYYYMMDD'].dt.year.max()+1):\n",
    "    yearRain = deBilt[deBilt['YYYYMMDD'].dt.year == year]\n",
    "    counts = []\n",
    "    for i, mm in enumerate(rainRanges[1:],1):\n",
    "        prev = rainRanges[i-1]\n",
    "        x = yearRain[(yearRain['RH'] >= prev) & (yearRain['RH'] < mm)]['RH'].count()\n",
    "#         print(f'year: {year} max:{mm} count:{x}')\n",
    "        counts.append(x)\n",
    "    freq.update({year:counts})\n",
    "\n",
    "fpy = pd.DataFrame.from_dict(freq, orient='index',columns=rainRanges[1:])"
   ]
  },
  {
   "cell_type": "code",
   "execution_count": null,
   "metadata": {},
   "outputs": [],
   "source": [
    "display(fpy[0:5])"
   ]
  },
  {
   "cell_type": "code",
   "execution_count": null,
   "metadata": {
    "scrolled": true
   },
   "outputs": [],
   "source": [
    "x = fpy.plot(figsize=(16,14),colormap=\"winter\")"
   ]
  },
  {
   "cell_type": "code",
   "execution_count": null,
   "metadata": {},
   "outputs": [],
   "source": [
    "\"\"\"\n",
    "HH: Current hour\n",
    "DR: Duur van de neerslag (in 0.1 uur) per uurvak / Precipitation duration (in 0.1 hour) during the hourly division\n",
    "RH: Uursom van de neerslag (in 0.1 mm) (-1 voor <0.05 mm) / Hourly precipitation amount (in 0.1 mm) (-1 for <0.05 mm)\n",
    "\"\"\"\n",
    "deBilt.sort_values(by=['RH','DR'],ascending=False)[:20]"
   ]
  },
  {
   "cell_type": "code",
   "execution_count": null,
   "metadata": {},
   "outputs": [],
   "source": [
    "# Specifieke regen val X n maal in 50 jaar\n",
    "fpy.mean()"
   ]
  },
  {
   "cell_type": "code",
   "execution_count": null,
   "metadata": {},
   "outputs": [],
   "source": [
    "fpy.mean() * 20"
   ]
  }
 ],
 "metadata": {
  "kernelspec": {
   "display_name": "Python 3.8.3 64-bit",
   "language": "python",
   "name": "python38364bit5cdb2531dd3545ea9b3fd1a8a995abfc"
  },
  "language_info": {
   "codemirror_mode": {
    "name": "ipython",
    "version": 3
   },
   "file_extension": ".py",
   "mimetype": "text/x-python",
   "name": "python",
   "nbconvert_exporter": "python",
   "pygments_lexer": "ipython3",
   "version": "3.8.3"
  }
 },
 "nbformat": 4,
 "nbformat_minor": 2
}
