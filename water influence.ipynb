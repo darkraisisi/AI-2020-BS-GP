{
 "cells": [
  {
   "cell_type": "code",
   "execution_count": null,
   "metadata": {},
   "outputs": [],
   "source": [
    "import numpy as np\n",
    "import pandas as pd\n",
    "import matplotlib.pyplot as plt\n",
    "import matplotlib.colors as clr\n",
    "import math\n",
    "import urllib.parse\n",
    "import urllib.request\n",
    "import json\n",
    "from colour import Color as clr\n",
    "from PIL import Image, ImageDraw, ImageFont\n",
    "\n",
    "save_location = r\"C:\\Users\\david\\Documenten\\Jaar 2\\B\\BS\\AI-2020-BS-GP\\data\""
   ]
  },
  {
   "cell_type": "code",
   "execution_count": null,
   "metadata": {},
   "outputs": [],
   "source": [
    "DREMPEL = 0.02 #m\n",
    "YEARS = 20\n",
    "SAG = 0.1 #cm/year\n",
    "RAINHEIGHTS = [32,40,47,58]\n",
    "CHANCES = {25:15, 32:87.8, 40:55.8, 47:33.2, 58:18.2} #mm rain to once in x years"
   ]
  },
  {
   "cell_type": "code",
   "execution_count": null,
   "metadata": {},
   "outputs": [],
   "source": [
    "combined = pd.DataFrame(columns = ['FID','MAX'])\n",
    "for rainHeight in RAINHEIGHTS:\n",
    "    try:\n",
    "        houses = pd.read_csv(f'data/waterInHuizen_{rainHeight}.csv', usecols=['FID','MAX'])\n",
    "        houses = houses[houses[\"MAX\"] > DREMPEL]\n",
    "        houses['CHANCE'] = CHANCES[rainHeight]\n",
    "        combined = pd.concat([combined,houses])\n",
    "    except FileNotFoundError:\n",
    "        print(f'File waterInHuizen_{rainHeight}.csv not found')\n",
    "combined = combined.drop_duplicates(subset=['FID'], keep='first')\n",
    "combined.to_csv('data\\generated\\combined_affected_houses.csv', index = False, header=True)"
   ]
  },
  {
   "cell_type": "code",
   "execution_count": null,
   "metadata": {},
   "outputs": [],
   "source": [
    "n = combined['CHANCE'].nunique()\n",
    "unique = combined['CHANCE'].unique()"
   ]
  },
  {
   "cell_type": "code",
   "execution_count": null,
   "metadata": {},
   "outputs": [],
   "source": [
    "colors = list(clr('red').range_to(clr(\"yellow\"),n))"
   ]
  },
  {
   "cell_type": "code",
   "execution_count": null,
   "metadata": {},
   "outputs": [],
   "source": [
    "image = Image.open(save_location+r\"\\generated\\ProjectDataFrame.png\")\n",
    "width, height = image.size\n",
    "width, height"
   ]
  },
  {
   "cell_type": "code",
   "execution_count": null,
   "metadata": {},
   "outputs": [],
   "source": [
    "draw = ImageDraw.Draw(image)\n",
    "text = 'Kans in 20 jaar'\n",
    "fontSize = 28\n",
    "margin = fontSize /5\n",
    "\n",
    "font = ImageFont.truetype(\"arial.ttf\", fontSize)\n",
    "textwidth, textheight = draw.textsize(text,font=font)\n",
    "\n",
    "textwidth, textheight, text, tuple([int(255*x) for x in colors[1].rgb])\n",
    "draw.multiline_text((0, 0), text, (0,0,0), font=font)\n",
    "textwidth, textheight"
   ]
  },
  {
   "cell_type": "code",
   "execution_count": null,
   "metadata": {},
   "outputs": [],
   "source": [
    "for i in range(n+1):\n",
    "    blockHeight = (textheight + margin) * (i+1)\n",
    "    blockWidth = 20\n",
    "    if i != n:\n",
    "        draw.multiline_text((blockWidth + 10, blockHeight), \"{}%\".format(unique[i]), (0,0,0), font=font)\n",
    "        draw.rectangle([0, blockHeight+5, blockWidth, blockHeight+25],outline=(0,0,0),fill=tuple([int(255*x) for x in colors[i].rgb]))\n",
    "    else:\n",
    "        draw.multiline_text((blockWidth + 10, blockHeight), \"Ongehinderd\", (0,0,0), font=font)\n",
    "        draw.rectangle([0, blockHeight+5, blockWidth, blockHeight+25],outline=(0,0,0),fill=tuple([int(255*x) for x in clr('green').rgb]))\n",
    "        \n",
    "image"
   ]
  },
  {
   "cell_type": "code",
   "execution_count": null,
   "metadata": {},
   "outputs": [],
   "source": [
    "image.save(save_location+r\"\\generated\\ProjectDataFrame.png\")"
   ]
  }
 ],
 "metadata": {
  "kernelspec": {
   "display_name": "Python 3.8.3 64-bit",
   "language": "python",
   "name": "python38364bit5cdb2531dd3545ea9b3fd1a8a995abfc"
  },
  "language_info": {
   "codemirror_mode": {
    "name": "ipython",
    "version": 3
   },
   "file_extension": ".py",
   "mimetype": "text/x-python",
   "name": "python",
   "nbconvert_exporter": "python",
   "pygments_lexer": "ipython3",
   "version": "3.8.3"
  }
 },
 "nbformat": 4,
 "nbformat_minor": 2
}
